{
 "cells": [
  {
   "cell_type": "code",
   "execution_count": null,
   "metadata": {
    "vscode": {
     "languageId": "plaintext"
    }
   },
   "outputs": [],
   "source": [
    "def load_data():\n",
    "\n",
    "    import pandas as pd\n",
    "\n",
    "    dataframe = pd.read_csv(\n",
    "        \"../files/input/sentences.csv.zip\",\n",
    "        index_col=False,\n",
    "        compression=\"zip\",\n",
    "    )\n",
    "\n",
    "    data = dataframe.phrase\n",
    "    target = dataframe.target\n",
    "\n",
    "    return data, target"
   ]
  },
  {
   "cell_type": "code",
   "execution_count": null,
   "metadata": {
    "vscode": {
     "languageId": "plaintext"
    }
   },
   "outputs": [],
   "source": [
    "def make_grid_search(estimator, param_grid, cv=5):\n",
    "\n",
    "    from sklearn.model_selection import GridSearchCV\n",
    "\n",
    "    grid_search = GridSearchCV(\n",
    "        estimator=estimator,\n",
    "        param_grid=param_grid,\n",
    "        cv=cv,\n",
    "        scoring=\"balanced_accuracy\",\n",
    "        n_jobs=-1,\n",
    "    )\n",
    "\n",
    "    return grid_search\n",
    "  \n"
   ]
  },
  {
   "cell_type": "code",
   "execution_count": null,
   "metadata": {
    "vscode": {
     "languageId": "plaintext"
    }
   },
   "outputs": [],
   "source": [
    "\n",
    "def train_logistic_regression():\n",
    "\n",
    "    from sklearn.linear_model import LogisticRegression\n",
    "\n",
    "    train_user_model(\n",
    "        user_model=LogisticRegression(max_iter=1000),\n",
    "        user_param_grid={\n",
    "            \"transformer__norm\": [\"l1\", \"l2\", None],\n",
    "            \"transformer__use_idf\": [True, False],\n",
    "            \"transformer__smooth_idf\": [True, False],\n",
    "        },\n",
    "        cv=5,\n",
    "    )\n",
    "\n",
    "\n",
    "train_logistic_regression()\n",
    "\n",
    "\n",
    "\n",
    "\n",
    "def train_mlp_classifier():\n",
    "\n",
    "    from sklearn.neural_network import MLPClassifier\n",
    "\n",
    "    train_user_model(\n",
    "        user_model=MLPClassifier(max_iter=10000),\n",
    "        user_param_grid={\n",
    "            \"transformer__norm\": [\"l1\", \"l2\", None],\n",
    "            \"transformer__use_idf\": [True, False],\n",
    "            \"transformer__smooth_idf\": [True, False],\n",
    "            \"estimator__hidden_layer_sizes\": [(1,), (5,), (5, 5)],\n",
    "            \"estimator__solver\": [\"adam\"],\n",
    "            \"estimator__learning_rate_init\": [0.01, 0.001, 0.0001],\n",
    "        },\n",
    "        cv=5,\n",
    "    )\n",
    "\n",
    "\n",
    "train_mlp_classifier()\n",
    "\n",
    "check_estimator()"
   ]
  },
  {
   "cell_type": "code",
   "execution_count": null,
   "metadata": {
    "vscode": {
     "languageId": "plaintext"
    }
   },
   "outputs": [],
   "source": [
    "def train_user_model(user_model, user_param_grid, cv=5):\n",
    "\n",
    "    from sklearn.metrics import balanced_accuracy_score\n",
    "\n",
    "    data, target = load_data()\n",
    "\n",
    "    x_train, x_test, y_train, y_test = make_train_test_split(\n",
    "        x=data,\n",
    "        y=target,\n",
    "    )\n",
    "\n",
    "    pipeline = make_pipeline(\n",
    "        estimator=user_model,\n",
    "    )\n",
    "\n",
    "    estimator = make_grid_search(\n",
    "        estimator=pipeline,\n",
    "        param_grid=user_param_grid,\n",
    "        cv=cv,\n",
    "    )\n",
    "\n",
    "    estimator.fit(x_train, y_train)\n",
    "\n",
    "    best_estimator = load_estimator()\n",
    "\n",
    "    if best_estimator is not None:\n",
    "\n",
    "        saved_balanced_accuracy = balanced_accuracy_score(\n",
    "            y_true=y_test, y_pred=best_estimator.predict(x_test)\n",
    "        )\n",
    "\n",
    "        current_balanced_accuracy = balanced_accuracy_score(\n",
    "            y_true=y_test, y_pred=estimator.predict(x_test)\n",
    "        )\n",
    "\n",
    "        if current_balanced_accuracy < saved_balanced_accuracy:\n",
    "            estimator = best_estimator\n",
    "\n",
    "    save_estimator(estimator)\n",
    "    \n",
    "    \n"
   ]
  },
  {
   "cell_type": "code",
   "execution_count": null,
   "metadata": {
    "vscode": {
     "languageId": "plaintext"
    }
   },
   "outputs": [],
   "source": [
    "def use_estimator():\n",
    "\n",
    "    import pickle\n",
    "\n",
    "    import pandas as pd\n",
    "\n",
    "    dataframe = pd.read_csv(\n",
    "        \"../files/input/sentences.csv.zip\",\n",
    "        index_col=False,\n",
    "        compression=\"zip\",\n",
    "    )\n",
    "\n",
    "    data = dataframe.phrase\n",
    "\n",
    "    with open(\"estimator.pickle\", \"rb\") as file:\n",
    "        estimator = pickle.load(file)\n",
    "\n",
    "    prediction = estimator.predict(data)\n",
    "\n",
    "    return prediction\n",
    "\n",
    "\n",
    "use_estimator()"
   ]
  },
  {
   "cell_type": "code",
   "execution_count": null,
   "metadata": {
    "vscode": {
     "languageId": "plaintext"
    }
   },
   "outputs": [],
   "source": [
    "def check_estimator():\n",
    "\n",
    "    import pickle\n",
    "\n",
    "    import pandas as pd\n",
    "    from sklearn.metrics import accuracy_score, balanced_accuracy_score\n",
    "\n",
    "    data, target = load_data()\n",
    "\n",
    "    x_train, x_test, y_train_true, y_test_true = make_train_test_split(\n",
    "        x=data,\n",
    "        y=target,\n",
    "    )\n",
    "\n",
    "    with open(\"estimator.pickle\", \"rb\") as file:\n",
    "        estimator = pickle.load(file)\n",
    "\n",
    "    y_train_pred = estimator.predict(x_train)\n",
    "    y_test_pred = estimator.predict(x_test)\n",
    "\n",
    "    accuracy_train = round(accuracy_score(y_train_true, y_train_pred), 4)\n",
    "    accuracy_test = round(accuracy_score(y_test_true, y_test_pred), 4)\n",
    "    balanced_accuracy_train = round(\n",
    "        balanced_accuracy_score(y_train_true, y_train_pred), 4\n",
    "    )\n",
    "    balanced_accuracy_test = round(balanced_accuracy_score(y_test_true, y_test_pred), 4)\n",
    "\n",
    "    print(estimator.best_estimator_, \":\", sep=\"\")\n",
    "    print(f\"  Balanced Accuracy: {balanced_accuracy_test} ({balanced_accuracy_train})\")\n",
    "    print(f\"           Accuracy: {accuracy_test} ({accuracy_train})\")\n",
    "\n",
    "\n",
    "check_estimator()"
   ]
  },
  {
   "cell_type": "code",
   "execution_count": null,
   "metadata": {
    "vscode": {
     "languageId": "plaintext"
    }
   },
   "outputs": [],
   "source": [
    "def train_mlp_classifier():\n",
    "\n",
    "    from sklearn.metrics import balanced_accuracy_score\n",
    "    from sklearn.neural_network import MLPClassifier\n",
    "\n",
    "    data, target = load_data()\n",
    "\n",
    "    x_train, x_test, y_train, y_test = make_train_test_split(\n",
    "        x=data,\n",
    "        y=target,\n",
    "    )\n",
    "\n",
    "    pipeline = make_pipeline(\n",
    "        estimator=MLPClassifier(max_iter=10000),\n",
    "    )\n",
    "\n",
    "    estimator = make_grid_search(\n",
    "        estimator=pipeline,\n",
    "        param_grid={\n",
    "            \"transformer__norm\": [\"l1\", \"l2\", None],\n",
    "            \"transformer__use_idf\": [True, False],\n",
    "            \"transformer__smooth_idf\": [True, False],\n",
    "            \"estimator__hidden_layer_sizes\": [(1,), (5,), (5, 5)],\n",
    "            \"estimator__solver\": [\"adam\"],\n",
    "            \"estimator__learning_rate_init\": [0.01, 0.001, 0.0001],\n",
    "        },\n",
    "        cv=5,\n",
    "    )\n",
    "\n",
    "    estimator.fit(x_train, y_train)\n",
    "\n",
    "    best_estimator = load_estimator()\n",
    "\n",
    "    if best_estimator is not None:\n",
    "\n",
    "        saved_balanced_accuracy = balanced_accuracy_score(\n",
    "            y_true=y_test, y_pred=best_estimator.predict(x_test)\n",
    "        )\n",
    "\n",
    "        current_balanced_accuracy = balanced_accuracy_score(\n",
    "            y_true=y_test, y_pred=estimator.predict(x_test)\n",
    "        )\n",
    "\n",
    "        if current_balanced_accuracy < saved_balanced_accuracy:\n",
    "            estimator = best_estimator\n",
    "\n",
    "    save_estimator(estimator)\n",
    "\n",
    "\n",
    "train_mlp_classifier()"
   ]
  }
 ],
 "metadata": {
  "language_info": {
   "name": "python"
  }
 },
 "nbformat": 4,
 "nbformat_minor": 2
}
